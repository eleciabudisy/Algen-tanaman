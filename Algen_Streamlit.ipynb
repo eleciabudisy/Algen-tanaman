{
  "nbformat": 4,
  "nbformat_minor": 0,
  "metadata": {
    "colab": {
      "provenance": []
    },
    "kernelspec": {
      "name": "python3",
      "display_name": "Python 3"
    },
    "language_info": {
      "name": "python"
    }
  },
  "cells": [
    {
      "cell_type": "code",
      "source": [
        "!pip install streamlit"
      ],
      "metadata": {
        "colab": {
          "base_uri": "https://localhost:8080/"
        },
        "id": "BaN6qxOziZed",
        "outputId": "2824379c-c4de-4ef1-f2e7-438489f3aaca"
      },
      "execution_count": null,
      "outputs": [
        {
          "output_type": "stream",
          "name": "stdout",
          "text": [
            "Collecting streamlit\n",
            "  Downloading streamlit-1.28.2-py2.py3-none-any.whl (8.4 MB)\n",
            "\u001b[2K     \u001b[90m━━━━━━━━━━━━━━━━━━━━━━━━━━━━━━━━━━━━━━━━\u001b[0m \u001b[32m8.4/8.4 MB\u001b[0m \u001b[31m45.1 MB/s\u001b[0m eta \u001b[36m0:00:00\u001b[0m\n",
            "\u001b[?25hRequirement already satisfied: altair<6,>=4.0 in /usr/local/lib/python3.10/dist-packages (from streamlit) (4.2.2)\n",
            "Requirement already satisfied: blinker<2,>=1.0.0 in /usr/lib/python3/dist-packages (from streamlit) (1.4)\n",
            "Requirement already satisfied: cachetools<6,>=4.0 in /usr/local/lib/python3.10/dist-packages (from streamlit) (5.3.2)\n",
            "Requirement already satisfied: click<9,>=7.0 in /usr/local/lib/python3.10/dist-packages (from streamlit) (8.1.7)\n",
            "Requirement already satisfied: importlib-metadata<7,>=1.4 in /usr/local/lib/python3.10/dist-packages (from streamlit) (6.8.0)\n",
            "Requirement already satisfied: numpy<2,>=1.19.3 in /usr/local/lib/python3.10/dist-packages (from streamlit) (1.23.5)\n",
            "Requirement already satisfied: packaging<24,>=16.8 in /usr/local/lib/python3.10/dist-packages (from streamlit) (23.2)\n",
            "Requirement already satisfied: pandas<3,>=1.3.0 in /usr/local/lib/python3.10/dist-packages (from streamlit) (1.5.3)\n",
            "Requirement already satisfied: pillow<11,>=7.1.0 in /usr/local/lib/python3.10/dist-packages (from streamlit) (9.4.0)\n",
            "Requirement already satisfied: protobuf<5,>=3.20 in /usr/local/lib/python3.10/dist-packages (from streamlit) (3.20.3)\n",
            "Requirement already satisfied: pyarrow>=6.0 in /usr/local/lib/python3.10/dist-packages (from streamlit) (9.0.0)\n",
            "Requirement already satisfied: python-dateutil<3,>=2.7.3 in /usr/local/lib/python3.10/dist-packages (from streamlit) (2.8.2)\n",
            "Requirement already satisfied: requests<3,>=2.27 in /usr/local/lib/python3.10/dist-packages (from streamlit) (2.31.0)\n",
            "Requirement already satisfied: rich<14,>=10.14.0 in /usr/local/lib/python3.10/dist-packages (from streamlit) (13.7.0)\n",
            "Requirement already satisfied: tenacity<9,>=8.1.0 in /usr/local/lib/python3.10/dist-packages (from streamlit) (8.2.3)\n",
            "Requirement already satisfied: toml<2,>=0.10.1 in /usr/local/lib/python3.10/dist-packages (from streamlit) (0.10.2)\n",
            "Requirement already satisfied: typing-extensions<5,>=4.3.0 in /usr/local/lib/python3.10/dist-packages (from streamlit) (4.5.0)\n",
            "Requirement already satisfied: tzlocal<6,>=1.1 in /usr/local/lib/python3.10/dist-packages (from streamlit) (5.2)\n",
            "Collecting validators<1,>=0.2 (from streamlit)\n",
            "  Downloading validators-0.22.0-py3-none-any.whl (26 kB)\n",
            "Collecting gitpython!=3.1.19,<4,>=3.0.7 (from streamlit)\n",
            "  Downloading GitPython-3.1.40-py3-none-any.whl (190 kB)\n",
            "\u001b[2K     \u001b[90m━━━━━━━━━━━━━━━━━━━━━━━━━━━━━━━━━━━━━━━━\u001b[0m \u001b[32m190.6/190.6 kB\u001b[0m \u001b[31m14.8 MB/s\u001b[0m eta \u001b[36m0:00:00\u001b[0m\n",
            "\u001b[?25hCollecting pydeck<1,>=0.8.0b4 (from streamlit)\n",
            "  Downloading pydeck-0.8.1b0-py2.py3-none-any.whl (4.8 MB)\n",
            "\u001b[2K     \u001b[90m━━━━━━━━━━━━━━━━━━━━━━━━━━━━━━━━━━━━━━━━\u001b[0m \u001b[32m4.8/4.8 MB\u001b[0m \u001b[31m76.0 MB/s\u001b[0m eta \u001b[36m0:00:00\u001b[0m\n",
            "\u001b[?25hRequirement already satisfied: tornado<7,>=6.0.3 in /usr/local/lib/python3.10/dist-packages (from streamlit) (6.3.2)\n",
            "Collecting watchdog>=2.1.5 (from streamlit)\n",
            "  Downloading watchdog-3.0.0-py3-none-manylinux2014_x86_64.whl (82 kB)\n",
            "\u001b[2K     \u001b[90m━━━━━━━━━━━━━━━━━━━━━━━━━━━━━━━━━━━━━━━━\u001b[0m \u001b[32m82.1/82.1 kB\u001b[0m \u001b[31m7.2 MB/s\u001b[0m eta \u001b[36m0:00:00\u001b[0m\n",
            "\u001b[?25hRequirement already satisfied: entrypoints in /usr/local/lib/python3.10/dist-packages (from altair<6,>=4.0->streamlit) (0.4)\n",
            "Requirement already satisfied: jinja2 in /usr/local/lib/python3.10/dist-packages (from altair<6,>=4.0->streamlit) (3.1.2)\n",
            "Requirement already satisfied: jsonschema>=3.0 in /usr/local/lib/python3.10/dist-packages (from altair<6,>=4.0->streamlit) (4.19.2)\n",
            "Requirement already satisfied: toolz in /usr/local/lib/python3.10/dist-packages (from altair<6,>=4.0->streamlit) (0.12.0)\n",
            "Collecting gitdb<5,>=4.0.1 (from gitpython!=3.1.19,<4,>=3.0.7->streamlit)\n",
            "  Downloading gitdb-4.0.11-py3-none-any.whl (62 kB)\n",
            "\u001b[2K     \u001b[90m━━━━━━━━━━━━━━━━━━━━━━━━━━━━━━━━━━━━━━━━\u001b[0m \u001b[32m62.7/62.7 kB\u001b[0m \u001b[31m6.2 MB/s\u001b[0m eta \u001b[36m0:00:00\u001b[0m\n",
            "\u001b[?25hRequirement already satisfied: zipp>=0.5 in /usr/local/lib/python3.10/dist-packages (from importlib-metadata<7,>=1.4->streamlit) (3.17.0)\n",
            "Requirement already satisfied: pytz>=2020.1 in /usr/local/lib/python3.10/dist-packages (from pandas<3,>=1.3.0->streamlit) (2023.3.post1)\n",
            "Requirement already satisfied: six>=1.5 in /usr/local/lib/python3.10/dist-packages (from python-dateutil<3,>=2.7.3->streamlit) (1.16.0)\n",
            "Requirement already satisfied: charset-normalizer<4,>=2 in /usr/local/lib/python3.10/dist-packages (from requests<3,>=2.27->streamlit) (3.3.2)\n",
            "Requirement already satisfied: idna<4,>=2.5 in /usr/local/lib/python3.10/dist-packages (from requests<3,>=2.27->streamlit) (3.4)\n",
            "Requirement already satisfied: urllib3<3,>=1.21.1 in /usr/local/lib/python3.10/dist-packages (from requests<3,>=2.27->streamlit) (2.0.7)\n",
            "Requirement already satisfied: certifi>=2017.4.17 in /usr/local/lib/python3.10/dist-packages (from requests<3,>=2.27->streamlit) (2023.7.22)\n",
            "Requirement already satisfied: markdown-it-py>=2.2.0 in /usr/local/lib/python3.10/dist-packages (from rich<14,>=10.14.0->streamlit) (3.0.0)\n",
            "Requirement already satisfied: pygments<3.0.0,>=2.13.0 in /usr/local/lib/python3.10/dist-packages (from rich<14,>=10.14.0->streamlit) (2.16.1)\n",
            "Collecting smmap<6,>=3.0.1 (from gitdb<5,>=4.0.1->gitpython!=3.1.19,<4,>=3.0.7->streamlit)\n",
            "  Downloading smmap-5.0.1-py3-none-any.whl (24 kB)\n",
            "Requirement already satisfied: MarkupSafe>=2.0 in /usr/local/lib/python3.10/dist-packages (from jinja2->altair<6,>=4.0->streamlit) (2.1.3)\n",
            "Requirement already satisfied: attrs>=22.2.0 in /usr/local/lib/python3.10/dist-packages (from jsonschema>=3.0->altair<6,>=4.0->streamlit) (23.1.0)\n",
            "Requirement already satisfied: jsonschema-specifications>=2023.03.6 in /usr/local/lib/python3.10/dist-packages (from jsonschema>=3.0->altair<6,>=4.0->streamlit) (2023.11.1)\n",
            "Requirement already satisfied: referencing>=0.28.4 in /usr/local/lib/python3.10/dist-packages (from jsonschema>=3.0->altair<6,>=4.0->streamlit) (0.31.0)\n",
            "Requirement already satisfied: rpds-py>=0.7.1 in /usr/local/lib/python3.10/dist-packages (from jsonschema>=3.0->altair<6,>=4.0->streamlit) (0.12.0)\n",
            "Requirement already satisfied: mdurl~=0.1 in /usr/local/lib/python3.10/dist-packages (from markdown-it-py>=2.2.0->rich<14,>=10.14.0->streamlit) (0.1.2)\n",
            "Installing collected packages: watchdog, validators, smmap, pydeck, gitdb, gitpython, streamlit\n",
            "Successfully installed gitdb-4.0.11 gitpython-3.1.40 pydeck-0.8.1b0 smmap-5.0.1 streamlit-1.28.2 validators-0.22.0 watchdog-3.0.0\n"
          ]
        }
      ]
    },
    {
      "cell_type": "code",
      "execution_count": null,
      "metadata": {
        "colab": {
          "base_uri": "https://localhost:8080/"
        },
        "id": "AAULH8qtiW-g",
        "outputId": "7c97505c-0624-4c2e-8ddc-615afedfffb3"
      },
      "outputs": [
        {
          "output_type": "stream",
          "name": "stdout",
          "text": [
            "Writing app.py\n"
          ]
        }
      ],
      "source": [
        "%%writefile app.py\n",
        "import numpy as np\n",
        "import streamlit as st\n",
        "import matplotlib.pyplot as plt\n",
        "import time\n",
        "\n",
        "# Fungsi untuk menginisialisasi populasi\n",
        "def initialize_population(pop_size, num_genes):\n",
        "    population = np.random.rand(pop_size, num_genes)\n",
        "    population /= population.sum(axis=1)[:, None]  # Normalisasi\n",
        "    return population\n",
        "\n",
        "# Fungsi untuk menghitung fitness individu\n",
        "def calculate_fitness(individual, biaya_produksi, hasil_produksi, luas_lahan, harga_jual, anggaran):\n",
        "    total_biaya = sum(individual * luas_lahan * biaya_produksi)\n",
        "    if total_biaya > anggaran:\n",
        "        return -np.inf  # Fitness sangat rendah jika melebihi anggaran\n",
        "    pendapatan = sum(individual * luas_lahan * hasil_produksi * harga_jual)\n",
        "    return pendapatan - total_biaya\n",
        "\n",
        "# Fungsi untuk seleksi roulette wheel\n",
        "def roulette_wheel_selection(population, fitness):\n",
        "    total_fitness = sum(fitness)\n",
        "    relative_fitness = fitness / total_fitness\n",
        "    probabilities = np.cumsum(relative_fitness)\n",
        "    chosen_index = np.searchsorted(probabilities, np.random.random())\n",
        "    return population[chosen_index]\n",
        "\n",
        "# Fungsi untuk crossover aritmetika\n",
        "def arithmetic_crossover(parent1, parent2, alpha=0.5):\n",
        "    return alpha * parent1 + (1 - alpha) * parent2\n",
        "\n",
        "# Fungsi untuk mutasi non-uniform\n",
        "def non_uniform_mutation(individual, generation, max_generations, b=5):\n",
        "    for i in range(len(individual)):\n",
        "        if np.random.rand() < 0.1:  # Mutasi berdasarkan laju mutasi\n",
        "            delta = (1 - np.power(np.random.rand(), np.power((1 - generation/max_generations), b)))\n",
        "            individual[i] += delta\n",
        "    individual /= individual.sum()  # Normalisasi\n",
        "    return individual\n",
        "\n",
        "# Algoritma genetika utama\n",
        "def genetic_algorithm(pop_size, num_genes, max_generations, biaya_produksi, hasil_produksi, luas_lahan, harga_jual, anggaran, mutation_rate, crossover_rate, max_consecutive_generations_without_improvement):\n",
        "    global best_overall_fitness, best_overall_solution\n",
        "    start_time = time.time() # Waktu mulai program\n",
        "    progress_bar = st.progress(0)\n",
        "\n",
        "    population = initialize_population(pop_size, num_genes)\n",
        "    fitness_history = []\n",
        "    best_individual_per_generation = []\n",
        "    best_fitness = float('-inf')\n",
        "    best_overall_fitness = float('-inf')\n",
        "    consecutive_generations_without_improvement = 0\n",
        "\n",
        "    for generation in range(max_generations):\n",
        "        fitness = np.array([calculate_fitness(ind, biaya_produksi, hasil_produksi, luas_lahan, harga_jual, anggaran) for ind in population])\n",
        "        best_fitness_idx = np.argmax(fitness)\n",
        "        current_best_fitness = fitness[best_fitness_idx]\n",
        "\n",
        "        if current_best_fitness > best_fitness:\n",
        "        # Update best_fitness jika ditemukan yang lebih baik\n",
        "          best_fitness = current_best_fitness\n",
        "          consecutive_generations_without_improvement = 0\n",
        "        # Perbarui best_overall_fitness jika diperlukan\n",
        "          if current_best_fitness > best_overall_fitness:\n",
        "            best_overall_fitness = current_best_fitness\n",
        "            best_overall_solution = population[best_fitness_idx].copy()\n",
        "        else:\n",
        "            consecutive_generations_without_improvement += 1\n",
        "\n",
        "        fitness_history.append(current_best_fitness)\n",
        "        best_individual_per_generation.append(population[best_fitness_idx])\n",
        "        progress_bar.progress((generation + 1) / max_generations)\n",
        "\n",
        "        # Stopping criteria (Menghentikan iterasi jika tidak ada peningkatan dalam beberapa generasi)\n",
        "        if consecutive_generations_without_improvement >= max_consecutive_generations_without_improvement:\n",
        "            st.warning(f\"Berhenti lebih awal karena tidak ada peningkatan keuntungan selama {max_consecutive_generations_without_improvement} generasi berturut-turut.\")\n",
        "            break\n",
        "\n",
        "        # Menambahkan diversitas ke populasi dengan menyertakan beberapa individu acak\n",
        "        num_mutations = max(1, int(pop_size * mutation_rate))\n",
        "        new_population = [initialize_population(1, num_genes).flatten() for _ in range(num_mutations)]\n",
        "\n",
        "        while len(new_population) < pop_size:\n",
        "            parent1 = roulette_wheel_selection(population, fitness)\n",
        "            parent2 = roulette_wheel_selection(population, fitness)\n",
        "\n",
        "            if np.random.rand() < crossover_rate:\n",
        "                child = arithmetic_crossover(parent1, parent2)\n",
        "            else:\n",
        "                child = parent1.copy()  # Tidak ada crossover, anak identik dengan parent1\n",
        "\n",
        "            if np.random.rand() < mutation_rate:\n",
        "                child = non_uniform_mutation(child, generation, max_generations)\n",
        "            new_population.append(child)\n",
        "\n",
        "        population = np.array(new_population)\n",
        "\n",
        "    end_time = time.time() # Waktu berakhir program\n",
        "    elapsed_time = end_time - start_time\n",
        "    st.write(f\"Total waktu yang dibutuhkan: {elapsed_time:.2f} detik\")\n",
        "    best_index = np.argmax(fitness)\n",
        "    return population[best_index], fitness[best_index], fitness_history, best_individual_per_generation\n",
        "\n",
        "# Fungsi untuk memplot alokasi lahan menggunakan pie chart\n",
        "def plot_allocation(allocation, tanaman_labels, luas_lahan):\n",
        "    fig, ax = plt.subplots(figsize=(12, 12))\n",
        "    wedges, texts, autotexts = ax.pie(\n",
        "        allocation * luas_lahan,\n",
        "        labels=tanaman_labels,\n",
        "        autopct='%1.1f%%',\n",
        "        startangle=140,\n",
        "        colors=['#ff9999', '#66b3ff', '#99ff99', '#ffcc99'],\n",
        "        textprops={'color': 'white', 'weight': 'bold'},\n",
        "    )\n",
        "    for text in texts:\n",
        "        text.set_size(15)\n",
        "\n",
        "    # Mengatur latar belakang transparan\n",
        "    plt.setp(wedges, edgecolor='white', linewidth=1)\n",
        "    plt.setp(autotexts, size=15, weight=\"bold\", color='black')\n",
        "    plt.title('Alokasi Lahan untuk Setiap Jenis Tanaman', color='white', fontsize=25, weight=\"bold\")\n",
        "\n",
        "    # Simpan plot sebagai gambar PNG\n",
        "    plt.savefig(\"allocation_plot.png\", transparent=True)\n",
        "    st.image(\"allocation_plot.png\", use_column_width=True)\n",
        "\n",
        "# Fungsi untuk memplot fitness terbaik selama generasi\n",
        "from matplotlib.ticker import ScalarFormatter\n",
        "def plot_fitness(fitness_history):\n",
        "    plt.rcParams['axes.edgecolor'] = 'white'\n",
        "    plt.rcParams['axes.facecolor'] = '#808080'\n",
        "\n",
        "    fig, ax = plt.subplots(figsize=(10, 6))\n",
        "    ax.plot(fitness_history, color='limegreen', linewidth=3)\n",
        "    ax.set_xlabel('Generasi', color='white', fontsize=15, weight='bold')\n",
        "    ax.set_ylabel('Fitness Terbaik', color='white', fontsize=15, weight='bold')\n",
        "    plt.title('Perkembangan Fitness Terbaik Sepanjang Generasi', color='white', pad=35, weight=\"bold\", fontsize=20)\n",
        "    ax.xaxis.labelpad = 10\n",
        "    ax.yaxis.labelpad = 10\n",
        "    ax.yaxis.set_major_formatter(ScalarFormatter(useMathText=False))\n",
        "    ax.yaxis.get_offset_text().set_fontsize(15)\n",
        "\n",
        "    # Menetapkan warna teks pada sumbu\n",
        "    ax.tick_params(axis='x', colors='white', which='both', labelsize=15)\n",
        "    ax.tick_params(axis='y', colors='white', which='both', labelsize=15)\n",
        "\n",
        "    # Simpan plot sebagai gambar PNG\n",
        "    plt.savefig(\"fitness_plot.png\", transparent=True)\n",
        "    st.image(\"fitness_plot.png\", use_column_width=True)\n",
        "\n",
        "# Fungsi utama untuk menjalankan aplikasi Streamlit\n",
        "def main():\n",
        "    global best_overall_fitness, best_overall_solution\n",
        "\n",
        "    st.set_page_config(page_title=\"Optimasi Lahan Pertanian\", page_icon=\"👩‍🌾\")\n",
        "    st.title(\"Optimasi Penataan Lahan Pertanian dengan Algoritma Genetika\")\n",
        "\n",
        "    with st.sidebar:\n",
        "        st.subheader(\"Pengaturan GA\")\n",
        "\n",
        "        max_consecutive_generations_without_improvement = st.number_input(\"Batas Generasi Tanpa Peningkatan\", min_value=10, value=50, step=10)\n",
        "        pop_size = st.number_input(\"Ukuran Populasi\", min_value=10, value=50, step=10)\n",
        "        max_generations = st.number_input(\"Maksimum Generasi\", min_value=10, value=100, step=10)\n",
        "        mutation_rate = st.number_input(\"Laju Mutasi\", min_value=0.01, max_value=1.0, value=0.1, step=0.01)\n",
        "        crossover_rate = st.number_input(\"Laju Crossover\", min_value=0.01, max_value=1.0, value=0.5, step=0.01)\n",
        "\n",
        "    with st.form(key='my_form'):\n",
        "        num_tanaman = 4  # Jumlah tanaman tetap\n",
        "        biaya_produksi = []\n",
        "        hasil_produksi = []\n",
        "        harga_jual = []\n",
        "        tanaman_labels = []\n",
        "\n",
        "        # Bagian input untuk masing-masing tanaman\n",
        "        for i in range(num_tanaman):\n",
        "            st.subheader(f\"Tanaman {i+1}\")\n",
        "            nama_tanaman = st.text_input(f\"Nama Tanaman {i+1}\", value=f\"Tanaman {i+1}\")\n",
        "            tanaman_labels.append(nama_tanaman)\n",
        "            biaya_produksi.append(st.number_input(f\"Biaya produksi per hektar (IDR) untuk {nama_tanaman}\", value=1000000))\n",
        "            hasil_produksi.append(st.number_input(f\"Hasil produksi per hektar (ton) untuk {nama_tanaman}\", value=12.0))\n",
        "            harga_jual.append(st.number_input(f\"Harga jual per ton (IDR) untuk {nama_tanaman}\", value=200000))\n",
        "\n",
        "        # Memisahkan input luas lahan dan anggaran\n",
        "        st.subheader(\"Input Umum\")\n",
        "        luas_lahan = st.number_input(\"Total luas lahan (hektar)\", value=10.0)\n",
        "        anggaran = st.number_input(\"Anggaran maksimum (IDR)\", value=20000000)\n",
        "        submit_button = st.form_submit_button(label='Optimasi Lahan')\n",
        "\n",
        "    if submit_button:\n",
        "        best_solution, best_fitness, fitness_history, best_individuals = genetic_algorithm(\n",
        "            pop_size, num_tanaman, max_generations, biaya_produksi, hasil_produksi, luas_lahan, harga_jual, anggaran, mutation_rate, crossover_rate, max_consecutive_generations_without_improvement\n",
        "        )\n",
        "\n",
        "        st.header(\"Hasil Optimasi Lahan\")\n",
        "        st.subheader(f\"**Keuntungan Maksimum (IDR):** `{best_overall_fitness:,.2f}`\")\n",
        "        st.write(f\"Jumlah generasi untuk mencapai solusi terbaik: {len(best_individuals)}\")\n",
        "\n",
        "        # Tampilkan grafik alokasi lahan\n",
        "        plot_allocation(best_overall_solution, tanaman_labels, luas_lahan)\n",
        "        # Tampilkan grafik perkembangan fitness\n",
        "        plot_fitness(fitness_history)\n",
        "\n",
        "if __name__ == \"__main__\":\n",
        "    main()"
      ]
    },
    {
      "cell_type": "code",
      "source": [
        "import numpy as np\n",
        "import streamlit as st\n",
        "import matplotlib.pyplot as plt\n",
        "import time\n",
        "\n",
        "# Fungsi untuk menginisialisasi populasi\n",
        "def initialize_population(pop_size, num_genes):\n",
        "    population = np.random.rand(pop_size, num_genes)\n",
        "    population /= population.sum(axis=1)[:, None]  # Normalisasi\n",
        "    return population\n",
        "\n",
        "# Fungsi untuk menghitung fitness individu\n",
        "def calculate_fitness(individual, biaya_produksi, hasil_produksi, luas_lahan, harga_jual, anggaran):\n",
        "    total_biaya = sum(individual * luas_lahan * biaya_produksi)\n",
        "    if total_biaya > anggaran:\n",
        "        return -np.inf  # Fitness sangat rendah jika melebihi anggaran\n",
        "    pendapatan = sum(individual * luas_lahan * hasil_produksi * harga_jual)\n",
        "    return pendapatan - total_biaya\n",
        "\n",
        "# Fungsi untuk seleksi roulette wheel\n",
        "def roulette_wheel_selection(population, fitness):\n",
        "    total_fitness = sum(fitness)\n",
        "    relative_fitness = fitness / total_fitness\n",
        "    probabilities = np.cumsum(relative_fitness)\n",
        "    chosen_index = np.searchsorted(probabilities, np.random.random())\n",
        "    return population[chosen_index]\n",
        "\n",
        "# Fungsi untuk crossover aritmetika\n",
        "def arithmetic_crossover(parent1, parent2, alpha=0.5):\n",
        "    return alpha * parent1 + (1 - alpha) * parent2\n",
        "\n",
        "# Fungsi untuk mutasi non-uniform\n",
        "def non_uniform_mutation(individual, generation, max_generations, b=5):\n",
        "    for i in range(len(individual)):\n",
        "        if np.random.rand() < 0.1:  # Mutasi berdasarkan laju mutasi\n",
        "            delta = (1 - np.power(np.random.rand(), np.power((1 - generation/max_generations), b)))\n",
        "            individual[i] += delta\n",
        "    individual /= individual.sum()  # Normalisasi\n",
        "    return individual\n",
        "\n",
        "# Algoritma genetika utama\n",
        "def genetic_algorithm(pop_size, num_genes, max_generations, biaya_produksi, hasil_produksi, luas_lahan, harga_jual, anggaran, mutation_rate, crossover_rate, max_consecutive_generations_without_improvement):\n",
        "    global best_overall_fitness, best_overall_solution\n",
        "    start_time = time.time() # Waktu mulai program\n",
        "    progress_bar = st.progress(0)\n",
        "\n",
        "    population = initialize_population(pop_size, num_genes)\n",
        "    fitness_history = []\n",
        "    best_individual_per_generation = []\n",
        "    best_fitness = float('-inf')\n",
        "    best_overall_fitness = float('-inf')\n",
        "    consecutive_generations_without_improvement = 0\n",
        "\n",
        "    for generation in range(max_generations):\n",
        "        fitness = np.array([calculate_fitness(ind, biaya_produksi, hasil_produksi, luas_lahan, harga_jual, anggaran) for ind in population])\n",
        "        best_fitness_idx = np.argmax(fitness)\n",
        "        current_best_fitness = fitness[best_fitness_idx]\n",
        "\n",
        "        if current_best_fitness > best_fitness:\n",
        "        # Update best_fitness jika ditemukan yang lebih baik\n",
        "          best_fitness = current_best_fitness\n",
        "          consecutive_generations_without_improvement = 0\n",
        "        # Perbarui best_overall_fitness jika diperlukan\n",
        "          if current_best_fitness > best_overall_fitness:\n",
        "            best_overall_fitness = current_best_fitness\n",
        "            best_overall_solution = population[best_fitness_idx].copy()\n",
        "        else:\n",
        "            consecutive_generations_without_improvement += 1\n",
        "\n",
        "        fitness_history.append(current_best_fitness)\n",
        "        best_individual_per_generation.append(population[best_fitness_idx])\n",
        "        progress_bar.progress((generation + 1) / max_generations)\n",
        "\n",
        "        # Stopping criteria (Menghentikan iterasi jika tidak ada peningkatan dalam beberapa generasi)\n",
        "        if consecutive_generations_without_improvement >= max_consecutive_generations_without_improvement:\n",
        "            st.warning(f\"Berhenti lebih awal karena tidak ada peningkatan keuntungan selama {max_consecutive_generations_without_improvement} generasi berturut-turut.\")\n",
        "            break\n",
        "\n",
        "        # Menambahkan diversitas ke populasi dengan menyertakan beberapa individu acak\n",
        "        num_mutations = max(1, int(pop_size * mutation_rate))\n",
        "        new_population = [initialize_population(1, num_genes).flatten() for _ in range(num_mutations)]\n",
        "\n",
        "        while len(new_population) < pop_size:\n",
        "            parent1 = roulette_wheel_selection(population, fitness)\n",
        "            parent2 = roulette_wheel_selection(population, fitness)\n",
        "\n",
        "            if np.random.rand() < crossover_rate:\n",
        "                child = arithmetic_crossover(parent1, parent2)\n",
        "            else:\n",
        "                child = parent1.copy()  # Tidak ada crossover, anak identik dengan parent1\n",
        "\n",
        "            if np.random.rand() < mutation_rate:\n",
        "                child = non_uniform_mutation(child, generation, max_generations)\n",
        "            new_population.append(child)\n",
        "\n",
        "        population = np.array(new_population)\n",
        "\n",
        "    end_time = time.time() # Waktu berakhir program\n",
        "    elapsed_time = end_time - start_time\n",
        "    st.write(f\"Total waktu yang dibutuhkan: {elapsed_time:.2f} detik\")\n",
        "    best_index = np.argmax(fitness)\n",
        "    return population[best_index], fitness[best_index], fitness_history, best_individual_per_generation\n",
        "\n",
        "# Fungsi untuk memplot alokasi lahan menggunakan pie chart\n",
        "def plot_allocation(allocation, tanaman_labels, luas_lahan):\n",
        "    fig, ax = plt.subplots(figsize=(12, 12))\n",
        "    wedges, texts, autotexts = ax.pie(\n",
        "        allocation * luas_lahan,\n",
        "        labels=tanaman_labels,\n",
        "        autopct='%1.1f%%',\n",
        "        startangle=140,\n",
        "        colors=['#ff9999', '#66b3ff', '#99ff99', '#ffcc99'],\n",
        "        textprops={'color': 'white', 'weight': 'bold'},\n",
        "    )\n",
        "    for text in texts:\n",
        "        text.set_size(15)\n",
        "\n",
        "    # Mengatur latar belakang transparan\n",
        "    plt.setp(wedges, edgecolor='white', linewidth=1)\n",
        "    plt.setp(autotexts, size=15, weight=\"bold\", color='black')\n",
        "    plt.title('Alokasi Lahan untuk Setiap Jenis Tanaman', color='white', fontsize=25, weight=\"bold\")\n",
        "\n",
        "    # Simpan plot sebagai gambar PNG\n",
        "    plt.savefig(\"allocation_plot.png\", transparent=True)\n",
        "    st.image(\"allocation_plot.png\", use_column_width=True)\n",
        "\n",
        "# Fungsi untuk memplot fitness terbaik selama generasi\n",
        "from matplotlib.ticker import ScalarFormatter\n",
        "def plot_fitness(fitness_history):\n",
        "    plt.rcParams['axes.edgecolor'] = 'white'\n",
        "    plt.rcParams['axes.facecolor'] = '#808080'\n",
        "\n",
        "    fig, ax = plt.subplots(figsize=(10, 6))\n",
        "    ax.plot(fitness_history, color='limegreen', linewidth=3)\n",
        "    ax.set_xlabel('Generasi', color='white', fontsize=15, weight='bold')\n",
        "    ax.set_ylabel('Fitness Terbaik', color='white', fontsize=15, weight='bold')\n",
        "    plt.title('Perkembangan Fitness Terbaik Sepanjang Generasi', color='white', pad=35, weight=\"bold\", fontsize=20)\n",
        "    ax.xaxis.labelpad = 10\n",
        "    ax.yaxis.labelpad = 10\n",
        "    ax.yaxis.set_major_formatter(ScalarFormatter(useMathText=False))\n",
        "    ax.yaxis.get_offset_text().set_fontsize(15)\n",
        "\n",
        "    # Menetapkan warna teks pada sumbu\n",
        "    ax.tick_params(axis='x', colors='white', which='both', labelsize=15)\n",
        "    ax.tick_params(axis='y', colors='white', which='both', labelsize=15)\n",
        "\n",
        "    # Simpan plot sebagai gambar PNG\n",
        "    plt.savefig(\"fitness_plot.png\", transparent=True)\n",
        "    st.image(\"fitness_plot.png\", use_column_width=True)\n",
        "\n",
        "# Fungsi utama untuk menjalankan aplikasi Streamlit\n",
        "def main():\n",
        "    global best_overall_fitness, best_overall_solution\n",
        "\n",
        "    st.set_page_config(page_title=\"Optimasi Lahan Pertanian\", page_icon=\"👩‍🌾\")\n",
        "    st.title(\"Optimasi Penataan Lahan Pertanian dengan Algoritma Genetika\")\n",
        "\n",
        "    with st.sidebar:\n",
        "        st.subheader(\"Pengaturan GA\")\n",
        "\n",
        "        max_consecutive_generations_without_improvement = st.number_input(\"Batas Generasi Tanpa Peningkatan\", min_value=10, value=50, step=10)\n",
        "        pop_size = st.number_input(\"Ukuran Populasi\", min_value=10, value=50, step=10)\n",
        "        max_generations = st.number_input(\"Maksimum Generasi\", min_value=10, value=100, step=10)\n",
        "        mutation_rate = st.number_input(\"Laju Mutasi\", min_value=0.01, max_value=1.0, value=0.1, step=0.01)\n",
        "        crossover_rate = st.number_input(\"Laju Crossover\", min_value=0.01, max_value=1.0, value=0.5, step=0.01)\n",
        "\n",
        "    with st.form(key='my_form'):\n",
        "        num_tanaman = 4  # Jumlah tanaman tetap\n",
        "        biaya_produksi = []\n",
        "        hasil_produksi = []\n",
        "        harga_jual = []\n",
        "        tanaman_labels = []\n",
        "\n",
        "        # Bagian input untuk masing-masing tanaman\n",
        "        for i in range(num_tanaman):\n",
        "            st.subheader(f\"Tanaman {i+1}\")\n",
        "            nama_tanaman = st.text_input(f\"Nama Tanaman {i+1}\", value=f\"Tanaman {i+1}\")\n",
        "            tanaman_labels.append(nama_tanaman)\n",
        "            biaya_produksi.append(st.number_input(f\"Biaya produksi per hektar (IDR) untuk {nama_tanaman}\", value=1000000))\n",
        "            hasil_produksi.append(st.number_input(f\"Hasil produksi per hektar (ton) untuk {nama_tanaman}\", value=12.0))\n",
        "            harga_jual.append(st.number_input(f\"Harga jual per ton (IDR) untuk {nama_tanaman}\", value=200000))\n",
        "\n",
        "        # Memisahkan input luas lahan dan anggaran\n",
        "        st.subheader(\"Input Umum\")\n",
        "        luas_lahan = st.number_input(\"Total luas lahan (hektar)\", value=10.0)\n",
        "        anggaran = st.number_input(\"Anggaran maksimum (IDR)\", value=20000000)\n",
        "        submit_button = st.form_submit_button(label='Optimasi Lahan')\n",
        "\n",
        "    if submit_button:\n",
        "        best_solution, best_fitness, fitness_history, best_individuals = genetic_algorithm(\n",
        "            pop_size, num_tanaman, max_generations, biaya_produksi, hasil_produksi, luas_lahan, harga_jual, anggaran, mutation_rate, crossover_rate, max_consecutive_generations_without_improvement\n",
        "        )\n",
        "\n",
        "        st.header(\"Hasil Optimasi Lahan\")\n",
        "        st.subheader(f\"**Keuntungan Maksimum (IDR):** `{best_overall_fitness:,.2f}`\")\n",
        "        st.write(f\"Jumlah generasi untuk mencapai solusi terbaik: {len(best_individuals)}\")\n",
        "\n",
        "        # Tampilkan grafik alokasi lahan\n",
        "        plot_allocation(best_overall_solution, tanaman_labels, luas_lahan)\n",
        "        # Tampilkan grafik perkembangan fitness\n",
        "        plot_fitness(fitness_history)\n",
        "\n",
        "if __name__ == \"__main__\":\n",
        "    main()"
      ],
      "metadata": {
        "id": "Jxw1C0mQbz3h",
        "colab": {
          "base_uri": "https://localhost:8080/"
        },
        "outputId": "536d5a12-30a6-47c4-c5ad-47b5f91ad05b"
      },
      "execution_count": null,
      "outputs": [
        {
          "output_type": "stream",
          "name": "stderr",
          "text": [
            "2023-11-21 01:00:33.009 \n",
            "  \u001b[33m\u001b[1mWarning:\u001b[0m to view this Streamlit app on a browser, run it with the following\n",
            "  command:\n",
            "\n",
            "    streamlit run /usr/local/lib/python3.10/dist-packages/colab_kernel_launcher.py [ARGUMENTS]\n"
          ]
        }
      ]
    },
    {
      "cell_type": "code",
      "source": [
        "!ls"
      ],
      "metadata": {
        "colab": {
          "base_uri": "https://localhost:8080/"
        },
        "id": "lB1bZCQ8o1og",
        "outputId": "bff0c4f5-f0f2-4c2e-db32-2863dfecd846"
      },
      "execution_count": null,
      "outputs": [
        {
          "output_type": "stream",
          "name": "stdout",
          "text": [
            "app.py\tsample_data\n"
          ]
        }
      ]
    },
    {
      "cell_type": "code",
      "source": [
        "!pip install pyngrok"
      ],
      "metadata": {
        "colab": {
          "base_uri": "https://localhost:8080/"
        },
        "id": "APj3yJeooU3s",
        "outputId": "93ee856b-eba5-42e6-ade2-a6524a495167"
      },
      "execution_count": null,
      "outputs": [
        {
          "output_type": "stream",
          "name": "stdout",
          "text": [
            "Collecting pyngrok\n",
            "  Downloading pyngrok-7.0.1.tar.gz (731 kB)\n",
            "\u001b[?25l     \u001b[90m━━━━━━━━━━━━━━━━━━━━━━━━━━━━━━━━━━━━━━━━\u001b[0m \u001b[32m0.0/731.8 kB\u001b[0m \u001b[31m?\u001b[0m eta \u001b[36m-:--:--\u001b[0m\r\u001b[2K     \u001b[91m━━━━━\u001b[0m\u001b[90m╺\u001b[0m\u001b[90m━━━━━━━━━━━━━━━━━━━━━━━━━━━━━━━━━━\u001b[0m \u001b[32m92.2/731.8 kB\u001b[0m \u001b[31m2.5 MB/s\u001b[0m eta \u001b[36m0:00:01\u001b[0m\r\u001b[2K     \u001b[91m━━━━━━━━━━━━━━━━━━━━━━━━━━━━━━━━━━━━━━━\u001b[0m\u001b[91m╸\u001b[0m \u001b[32m727.0/731.8 kB\u001b[0m \u001b[31m10.6 MB/s\u001b[0m eta \u001b[36m0:00:01\u001b[0m\r\u001b[2K     \u001b[90m━━━━━━━━━━━━━━━━━━━━━━━━━━━━━━━━━━━━━━━━\u001b[0m \u001b[32m731.8/731.8 kB\u001b[0m \u001b[31m8.6 MB/s\u001b[0m eta \u001b[36m0:00:00\u001b[0m\n",
            "\u001b[?25h  Preparing metadata (setup.py) ... \u001b[?25l\u001b[?25hdone\n",
            "Requirement already satisfied: PyYAML in /usr/local/lib/python3.10/dist-packages (from pyngrok) (6.0.1)\n",
            "Building wheels for collected packages: pyngrok\n",
            "  Building wheel for pyngrok (setup.py) ... \u001b[?25l\u001b[?25hdone\n",
            "  Created wheel for pyngrok: filename=pyngrok-7.0.1-py3-none-any.whl size=21122 sha256=ca7383622488c790c0f27927d8e536f390da915d71d61613aa3fc8addbcbddb7\n",
            "  Stored in directory: /root/.cache/pip/wheels/3b/32/0e/27789b6fde02bf2b320d6f1a0fd9e1354b257c5f75eefc29bc\n",
            "Successfully built pyngrok\n",
            "Installing collected packages: pyngrok\n",
            "Successfully installed pyngrok-7.0.1\n"
          ]
        }
      ]
    },
    {
      "cell_type": "code",
      "source": [
        "!ngrok authtoken 2Y7XhvlAareAn7YLup89i0tAZfT_3PcrQrL9P4n568E2VuphE"
      ],
      "metadata": {
        "colab": {
          "base_uri": "https://localhost:8080/"
        },
        "id": "WutCxZ9to45P",
        "outputId": "7ef0fcde-27c4-48de-c21a-40a78a9d52df"
      },
      "execution_count": null,
      "outputs": [
        {
          "output_type": "stream",
          "name": "stdout",
          "text": [
            "Authtoken saved to configuration file: /root/.ngrok2/ngrok.yml\n"
          ]
        }
      ]
    },
    {
      "cell_type": "code",
      "source": [
        "!ngrok"
      ],
      "metadata": {
        "colab": {
          "base_uri": "https://localhost:8080/"
        },
        "id": "W_glP-NMo_Wv",
        "outputId": "d18a3046-3a3e-47cb-f58d-b2578a5bc048"
      },
      "execution_count": null,
      "outputs": [
        {
          "output_type": "stream",
          "name": "stdout",
          "text": [
            "NAME:\n",
            "  ngrok - tunnel local ports to public URLs and inspect traffic\n",
            "\n",
            "USAGE:\n",
            "  ngrok [command] [flags]\n",
            "\n",
            "DESCRIPTION: \n",
            "  ngrok exposes local networked services behinds NATs and firewalls to the\n",
            "  public internet over a secure tunnel. Share local websites, build/test\n",
            "  webhook consumers and self-host personal services.\n",
            "  Detailed help for each command is available with 'ngrok help <command>'.\n",
            "  Open http://localhost:4040 for ngrok's web interface to inspect traffic.\n",
            "\n",
            "Author:\n",
            "  ngrok - <support@ngrok.com>\n",
            "\n",
            "TERMS OF SERVICE: https://ngrok.com/tos\n",
            "\n",
            "EXAMPLES: \n",
            "  ngrok http 80                           # secure public URL for port 80 web server\n",
            "  ngrok http --domain baz.ngrok.dev 8080  # port 8080 available at baz.ngrok.dev\n",
            "  ngrok http foo.dev:80                   # tunnel to host:port instead of localhost\n",
            "  ngrok http https://localhost            # expose a local https server\n",
            "  ngrok tcp 22                            # tunnel arbitrary TCP traffic to port 22\n",
            "  ngrok tls --domain=foo.com 443          # TLS traffic for foo.com to port 443\n",
            "  ngrok start foo bar baz                 # start tunnels from the configuration file\n",
            "\n",
            "COMMANDS:\n",
            "  api                            use ngrok agent as an api client\n",
            "  completion                     generates shell completion code for bash or zsh\n",
            "  config                         update or migrate ngrok's configuration file\n",
            "  credits                        prints author and licensing information\n",
            "  diagnose                       diagnose connection issues\n",
            "  help                           Help about any command\n",
            "  http                           start an HTTP tunnel\n",
            "  service                        run and control an ngrok service on a target operating system\n",
            "  start                          start tunnels by name from the configuration file\n",
            "  tcp                            start a TCP tunnel\n",
            "  tls                            start a TLS tunnel\n",
            "  tunnel                         start a tunnel for use with a tunnel-group backend\n",
            "  update                         update ngrok to the latest version\n",
            "  version                        print the version string\n",
            "\n",
            "OPTIONS:\n",
            "      --config strings    path to config files; they are merged if multiple\n",
            "  -h, --help              help for ngrok\n",
            "      --metadata string   opaque user-defined metadata for the tunnel session\n",
            "  -v, --version           version for ngrok\n",
            "\n",
            "PYNGROK VERSION:\n",
            "   7.0.1\n"
          ]
        }
      ]
    },
    {
      "cell_type": "code",
      "source": [
        "from pyngrok import ngrok"
      ],
      "metadata": {
        "id": "oP3H26uBom_2"
      },
      "execution_count": null,
      "outputs": []
    },
    {
      "cell_type": "code",
      "source": [
        "!streamlit run app.py&>/dev/null&"
      ],
      "metadata": {
        "id": "eagt7MolpcBj"
      },
      "execution_count": null,
      "outputs": []
    },
    {
      "cell_type": "code",
      "source": [
        "!pgrep streamlit"
      ],
      "metadata": {
        "colab": {
          "base_uri": "https://localhost:8080/"
        },
        "id": "ersdzL7MpyCw",
        "outputId": "82f07ef2-322a-462f-8137-3f4901e698b8"
      },
      "execution_count": null,
      "outputs": [
        {
          "output_type": "stream",
          "name": "stdout",
          "text": [
            "746\n"
          ]
        }
      ]
    },
    {
      "cell_type": "code",
      "source": [
        "publ_url = ngrok.connect('8501')"
      ],
      "metadata": {
        "id": "F_9iGWalpPnH",
        "colab": {
          "base_uri": "https://localhost:8080/"
        },
        "outputId": "a3cfe092-634d-4b99-8849-2f4a2bba6e90"
      },
      "execution_count": null,
      "outputs": [
        {
          "output_type": "stream",
          "name": "stderr",
          "text": [
            "WARNING:pyngrok.process.ngrok:t=2023-11-21T01:00:46+0000 lvl=warn msg=\"ngrok config file found at legacy location, move to XDG location\" xdg_path=/root/.config/ngrok/ngrok.yml legacy_path=/root/.ngrok2/ngrok.yml\n"
          ]
        }
      ]
    },
    {
      "cell_type": "code",
      "source": [
        "publ_url"
      ],
      "metadata": {
        "colab": {
          "base_uri": "https://localhost:8080/"
        },
        "id": "ZwGHQYnHp3Ci",
        "outputId": "952f4f81-b85a-4a4f-97f9-a570c0e61d32"
      },
      "execution_count": null,
      "outputs": [
        {
          "output_type": "execute_result",
          "data": {
            "text/plain": [
              "<NgrokTunnel: \"https://863e-35-243-254-131.ngrok-free.app\" -> \"http://localhost:8501\">"
            ]
          },
          "metadata": {},
          "execution_count": 12
        }
      ]
    }
  ]
}